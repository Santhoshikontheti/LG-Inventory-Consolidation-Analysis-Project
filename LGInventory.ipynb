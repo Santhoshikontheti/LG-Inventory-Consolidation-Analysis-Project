{
 "cells": [
  {
   "cell_type": "code",
   "execution_count": 5,
   "id": "9b8e8dc7-7a44-44cd-889a-f81bcfe3566a",
   "metadata": {
    "tags": []
   },
   "outputs": [],
   "source": [
    "import os"
   ]
  },
  {
   "cell_type": "code",
   "execution_count": 1,
   "id": "52eec69b-5491-4d7c-803e-957c0bf24e46",
   "metadata": {
    "tags": []
   },
   "outputs": [],
   "source": [
    "import pandas as pd"
   ]
  },
  {
   "cell_type": "code",
   "execution_count": 61,
   "id": "c34bf3c7-2e7c-4b10-afaf-a7c972d7b92a",
   "metadata": {
    "tags": []
   },
   "outputs": [],
   "source": [
    "import numpy as np"
   ]
  },
  {
   "cell_type": "code",
   "execution_count": 6,
   "id": "43a5d7c6-e2ae-413e-8a39-1195a92b6f92",
   "metadata": {
    "tags": []
   },
   "outputs": [],
   "source": [
    "from datetime import datetime\n",
    "import matplotlib.pyplot as plt"
   ]
  },
  {
   "cell_type": "code",
   "execution_count": 116,
   "id": "c3e2c1c6-4f5d-484f-a82a-b53ed835a5df",
   "metadata": {
    "tags": []
   },
   "outputs": [],
   "source": [
    "import seaborn as sns"
   ]
  },
  {
   "cell_type": "markdown",
   "id": "375c33b5-a3c8-4e7e-acbf-bbac3a59abc0",
   "metadata": {},
   "source": [
    "#### Step 1: Load each dataset\n",
    "#### Step 2: Data Cleaning for  Customer A \n",
    "        * info\n",
    "        * Check for unique values\n",
    "        * Check for Missing Values\n",
    "        * Check fro Duplicates\n",
    "        * Clean Customer A (Rename columns, fix data types, remove leading/trailing spaces)\n",
    "        * Revalidate after cleaning (Recheck for missing Values,duplicate Values and Unique values)\n",
    "        Business Requirements\n",
    "        *  Total Inventory Check (Sum of all available stock for Customer A,across all LG Modes and stores)\n",
    "        *  Descriptive statistics of on-Hand Inventory (Detects Outliers which likely need manual correction or cleaning)\n",
    "           i) If detected any remove outliers or replace it with 0.\n",
    "            ii)Check again if the changes are applied.\n",
    "        *  Track by Inventory Store (Which stores are holding most of the stock)\n",
    "        *  Check for duplicate models with different EANs (to check if model has unique value or EAN, since same model can have different EANs which make EAN as unique ID for Inventory reference).\n",
    "#### Step 3 : Repeat the same for Customer B and C.\n",
    "#### Step 4 : Merge all the Files\n",
    "#### Step 5 : Identify the Missing values and export to a seperate sheet \n",
    "#### Step 6 : Export Clean Data Set\n",
    "#### Step 7 : Export Summary Report by Model\n",
    "#### Step 8 : Create a Process Log\n",
    "#### Step 9 : Create and save bar chart of top 10 models by inventory"
   ]
  },
  {
   "cell_type": "code",
   "execution_count": 7,
   "id": "335b50a3-10e1-455c-90fe-e914fe531658",
   "metadata": {
    "tags": []
   },
   "outputs": [],
   "source": [
    "os.chdir(r'D:\\Education\\Santhu\\LG Electronics Project')"
   ]
  },
  {
   "cell_type": "markdown",
   "id": "0d421356-a386-46a7-8abc-961feac6c168",
   "metadata": {},
   "source": [
    "#### Step 1: Load each dataset"
   ]
  },
  {
   "cell_type": "code",
   "execution_count": 10,
   "id": "8574f10a-7bfc-462c-b0b4-8bad68bfc227",
   "metadata": {
    "tags": []
   },
   "outputs": [],
   "source": [
    "customer_a          = pd.read_csv('Customer A.csv',sep=';',encoding ='latin1')\n",
    "customer_b_raw      = pd.read_excel('Customer B.xlsx',header = None)\n",
    "customer_c          = pd.read_excel('Customer C.xlsx')                               "
   ]
  },
  {
   "cell_type": "code",
   "execution_count": 74,
   "id": "46a95f5a-4278-4ae4-845a-e35049a490f3",
   "metadata": {
    "tags": []
   },
   "outputs": [],
   "source": [
    "customer_c          = pd.read_excel('Customer C.xlsx') "
   ]
  },
  {
   "cell_type": "markdown",
   "id": "5b88d9b2-ecd7-4a5d-9136-ec081895c1ac",
   "metadata": {},
   "source": [
    "#### Step 2: Data Cleaning"
   ]
  },
  {
   "cell_type": "code",
   "execution_count": 11,
   "id": "ef5a523e-cc83-4b83-a4ea-71c23b12723a",
   "metadata": {
    "tags": []
   },
   "outputs": [
    {
     "name": "stdout",
     "output_type": "stream",
     "text": [
      "<class 'pandas.core.frame.DataFrame'>\n",
      "RangeIndex: 233 entries, 0 to 232\n",
      "Data columns (total 8 columns):\n",
      " #   Column              Non-Null Count  Dtype \n",
      "---  ------              --------------  ----- \n",
      " 0   EAN                 233 non-null    int64 \n",
      " 1   ArtikelNummer       233 non-null    int64 \n",
      " 2   ArtikelBezeichnung  233 non-null    object\n",
      " 3   HerstellerArtNr     233 non-null    object\n",
      " 4   FilialNummer        233 non-null    int64 \n",
      " 5   FilialName          233 non-null    object\n",
      " 6   Abverkauf           233 non-null    int64 \n",
      " 7   Fakturadatum,       233 non-null    object\n",
      "dtypes: int64(4), object(4)\n",
      "memory usage: 14.7+ KB\n"
     ]
    }
   ],
   "source": [
    "customer_a.info()"
   ]
  },
  {
   "cell_type": "code",
   "execution_count": 12,
   "id": "f157acd7-8732-4795-9761-5ad7c4701220",
   "metadata": {
    "tags": []
   },
   "outputs": [
    {
     "data": {
      "text/plain": [
       "EAN                   0\n",
       "ArtikelNummer         0\n",
       "ArtikelBezeichnung    0\n",
       "HerstellerArtNr       0\n",
       "FilialNummer          0\n",
       "FilialName            0\n",
       "Abverkauf             0\n",
       "Fakturadatum,         0\n",
       "dtype: int64"
      ]
     },
     "execution_count": 12,
     "metadata": {},
     "output_type": "execute_result"
    }
   ],
   "source": [
    "#Check for misisng values\n",
    "customer_a.isnull().sum()"
   ]
  },
  {
   "cell_type": "code",
   "execution_count": 13,
   "id": "90b21113-85be-4353-a17e-f384995d321b",
   "metadata": {
    "tags": []
   },
   "outputs": [
    {
     "data": {
      "text/plain": [
       "0"
      ]
     },
     "execution_count": 13,
     "metadata": {},
     "output_type": "execute_result"
    }
   ],
   "source": [
    "#Check duplicates\n",
    "customer_a.duplicated().sum()"
   ]
  },
  {
   "cell_type": "code",
   "execution_count": 43,
   "id": "6a6c649d-603e-4bd5-92e2-0749c70297d7",
   "metadata": {
    "tags": []
   },
   "outputs": [],
   "source": [
    "#Check for Unique Values\n",
    "def check_uniques(df, label):\n",
    "    print (f\"\\n --- Unique Value Check: {label} ---\")\n",
    "    print(\"Unique Customer(s):\", df['Customer'].nunique() if 'Customer' in df.columns else 'N/A')\n",
    "    print(\"Unique Models:\", df['Model'].nunique() if 'Model' in df.columns else 'N/A')\n",
    "    print(\"Unique EANs:\", df['EAN'].nunique() if 'EAN' in df.columns else 'N/A')\n",
    "    print(\"Unique StoreIDs:\", df['StoreID'].nunique() if 'StoreID' in df.columns else 'N/A')\n",
    "    print(\"Unique Store Names:\", df['Store Name'].nunique() if 'Store Name' in df.columns else 'N/A')"
   ]
  },
  {
   "cell_type": "code",
   "execution_count": 44,
   "id": "4cca583f-d3b7-4fb3-a52c-405323e0f4f2",
   "metadata": {
    "tags": []
   },
   "outputs": [
    {
     "name": "stdout",
     "output_type": "stream",
     "text": [
      "\n",
      " --- Unique Value Check: Customer A  - BEFORE CLEANING ---\n",
      "Unique Customer(s): N/A\n",
      "Unique Models: N/A\n",
      "Unique EANs: 47\n",
      "Unique StoreIDs: N/A\n",
      "Unique Store Names: N/A\n"
     ]
    }
   ],
   "source": [
    "# Check unique values before CLEANING\n",
    "check_uniques(customer_a,\"Customer A  - BEFORE CLEANING\")"
   ]
  },
  {
   "cell_type": "code",
   "execution_count": 98,
   "id": "5ff6b4ec-b594-4ee6-8734-63f3e48b5d71",
   "metadata": {
    "tags": []
   },
   "outputs": [],
   "source": [
    "# Clean Customer A\n",
    "customer_a_clean      = customer_a.rename(columns={\n",
    "    'HerstellerArtNr' :  'Model',\n",
    "    'FilialNummer'    : 'StoreID',\n",
    "    'FilialName'      :'Store Name',\n",
    "    'Abverkauf'       : 'On-Hand (A)',\n",
    "    'ArtikelBezeichnung' : 'Artikelbezeichnung',\n",
    "    'EAN'                : 'EAN'\n",
    "})\n",
    "\n",
    "customer_a_clean['Customer'] = 'Customer A'\n",
    "customer_a_clean['Model'] =  customer_a_clean['Model'].astype(str).str.strip()\n",
    "customer_a_clean['ArtikelBezeichnung'] =  customer_a_clean['Artikelbezeichnung'].astype(str).str.strip() \n",
    "customer_a_clean['Store Name'] =  customer_a_clean['Store Name'].astype(str).str.strip()\n",
    "customer_a_clean['EAN'] =  customer_a_clean['EAN'].astype(str).str.strip()\n",
    "customer_a_clean['On-Hand (A)'] =  pd.to_numeric(customer_a_clean['On-Hand (A)'],errors='coerce')"
   ]
  },
  {
   "cell_type": "code",
   "execution_count": 99,
   "id": "144e58ed-ac0b-4aba-b2f6-a7ab7e092e64",
   "metadata": {
    "tags": []
   },
   "outputs": [
    {
     "data": {
      "text/html": [
       "<div>\n",
       "<style scoped>\n",
       "    .dataframe tbody tr th:only-of-type {\n",
       "        vertical-align: middle;\n",
       "    }\n",
       "\n",
       "    .dataframe tbody tr th {\n",
       "        vertical-align: top;\n",
       "    }\n",
       "\n",
       "    .dataframe thead th {\n",
       "        text-align: right;\n",
       "    }\n",
       "</style>\n",
       "<table border=\"1\" class=\"dataframe\">\n",
       "  <thead>\n",
       "    <tr style=\"text-align: right;\">\n",
       "      <th></th>\n",
       "      <th>EAN</th>\n",
       "      <th>ArtikelNummer</th>\n",
       "      <th>Artikelbezeichnung</th>\n",
       "      <th>Model</th>\n",
       "      <th>StoreID</th>\n",
       "      <th>Store Name</th>\n",
       "      <th>On-Hand (A)</th>\n",
       "      <th>Fakturadatum,</th>\n",
       "      <th>Customer</th>\n",
       "      <th>ArtikelBezeichnung</th>\n",
       "    </tr>\n",
       "  </thead>\n",
       "  <tbody>\n",
       "    <tr>\n",
       "      <th>0</th>\n",
       "      <td>8806096014462</td>\n",
       "      <td>1441947</td>\n",
       "      <td>OLED65G49LS</td>\n",
       "      <td>OLED65G49LS.AEU</td>\n",
       "      <td>201</td>\n",
       "      <td>Schwentinental</td>\n",
       "      <td>1</td>\n",
       "      <td>2025-05-24,</td>\n",
       "      <td>Customer A</td>\n",
       "      <td>OLED65G49LS</td>\n",
       "    </tr>\n",
       "    <tr>\n",
       "      <th>1</th>\n",
       "      <td>8806096362365</td>\n",
       "      <td>1478138</td>\n",
       "      <td>55NANO81A6A</td>\n",
       "      <td>55NANO81A6A.AEU</td>\n",
       "      <td>201</td>\n",
       "      <td>Schwentinental</td>\n",
       "      <td>1</td>\n",
       "      <td>2025-05-24,</td>\n",
       "      <td>Customer A</td>\n",
       "      <td>55NANO81A6A</td>\n",
       "    </tr>\n",
       "    <tr>\n",
       "      <th>2</th>\n",
       "      <td>8806091277145</td>\n",
       "      <td>1345296</td>\n",
       "      <td>DSPD7Y</td>\n",
       "      <td>DSPD7Y.DDEULLK</td>\n",
       "      <td>206</td>\n",
       "      <td>Berlin-Pankow</td>\n",
       "      <td>1</td>\n",
       "      <td>2025-05-22,</td>\n",
       "      <td>Customer A</td>\n",
       "      <td>DSPD7Y</td>\n",
       "    </tr>\n",
       "    <tr>\n",
       "      <th>3</th>\n",
       "      <td>8806096042540</td>\n",
       "      <td>1439519</td>\n",
       "      <td>OLED55B42LA</td>\n",
       "      <td>OLED55B42LA.AEU</td>\n",
       "      <td>212</td>\n",
       "      <td>Geldern</td>\n",
       "      <td>1</td>\n",
       "      <td>2025-05-22,</td>\n",
       "      <td>Customer A</td>\n",
       "      <td>OLED55B42LA</td>\n",
       "    </tr>\n",
       "    <tr>\n",
       "      <th>4</th>\n",
       "      <td>8806096011157</td>\n",
       "      <td>1439546</td>\n",
       "      <td>65QNED87T6B</td>\n",
       "      <td>65QNED87T6B.AEU</td>\n",
       "      <td>212</td>\n",
       "      <td>Geldern</td>\n",
       "      <td>1</td>\n",
       "      <td>2025-05-24,</td>\n",
       "      <td>Customer A</td>\n",
       "      <td>65QNED87T6B</td>\n",
       "    </tr>\n",
       "  </tbody>\n",
       "</table>\n",
       "</div>"
      ],
      "text/plain": [
       "             EAN  ArtikelNummer Artikelbezeichnung            Model  StoreID  \\\n",
       "0  8806096014462        1441947        OLED65G49LS  OLED65G49LS.AEU      201   \n",
       "1  8806096362365        1478138        55NANO81A6A  55NANO81A6A.AEU      201   \n",
       "2  8806091277145        1345296             DSPD7Y   DSPD7Y.DDEULLK      206   \n",
       "3  8806096042540        1439519        OLED55B42LA  OLED55B42LA.AEU      212   \n",
       "4  8806096011157        1439546        65QNED87T6B  65QNED87T6B.AEU      212   \n",
       "\n",
       "       Store Name  On-Hand (A) Fakturadatum,    Customer ArtikelBezeichnung  \n",
       "0  Schwentinental            1   2025-05-24,  Customer A        OLED65G49LS  \n",
       "1  Schwentinental            1   2025-05-24,  Customer A        55NANO81A6A  \n",
       "2   Berlin-Pankow            1   2025-05-22,  Customer A             DSPD7Y  \n",
       "3         Geldern            1   2025-05-22,  Customer A        OLED55B42LA  \n",
       "4         Geldern            1   2025-05-24,  Customer A        65QNED87T6B  "
      ]
     },
     "execution_count": 99,
     "metadata": {},
     "output_type": "execute_result"
    }
   ],
   "source": [
    "customer_a_clean.head()"
   ]
  },
  {
   "cell_type": "code",
   "execution_count": 19,
   "id": "0f1e4cc5-46d0-486d-95d4-de39cd467409",
   "metadata": {
    "tags": []
   },
   "outputs": [
    {
     "name": "stdout",
     "output_type": "stream",
     "text": [
      "<class 'pandas.core.frame.DataFrame'>\n",
      "RangeIndex: 233 entries, 0 to 232\n",
      "Data columns (total 9 columns):\n",
      " #   Column              Non-Null Count  Dtype \n",
      "---  ------              --------------  ----- \n",
      " 0   EAN                 233 non-null    object\n",
      " 1   ArtikelNummer       233 non-null    int64 \n",
      " 2   ArtikelBezeichnung  233 non-null    object\n",
      " 3   Model               233 non-null    object\n",
      " 4   StoreID             233 non-null    int64 \n",
      " 5   Store Name          233 non-null    object\n",
      " 6   On-Hand (A)         233 non-null    int64 \n",
      " 7   Fakturadatum,       233 non-null    object\n",
      " 8   Customer            233 non-null    object\n",
      "dtypes: int64(3), object(6)\n",
      "memory usage: 16.5+ KB\n"
     ]
    }
   ],
   "source": [
    "customer_a_clean.info()"
   ]
  },
  {
   "cell_type": "code",
   "execution_count": 20,
   "id": "a7fa523c-eb30-4b0c-8b3f-79f03820498d",
   "metadata": {
    "tags": []
   },
   "outputs": [
    {
     "data": {
      "text/plain": [
       "EAN                   0\n",
       "ArtikelNummer         0\n",
       "ArtikelBezeichnung    0\n",
       "Model                 0\n",
       "StoreID               0\n",
       "Store Name            0\n",
       "On-Hand (A)           0\n",
       "Fakturadatum,         0\n",
       "Customer              0\n",
       "dtype: int64"
      ]
     },
     "execution_count": 20,
     "metadata": {},
     "output_type": "execute_result"
    }
   ],
   "source": [
    "customer_a_clean.isnull().sum()"
   ]
  },
  {
   "cell_type": "code",
   "execution_count": 21,
   "id": "c5331627-98e2-4983-907c-9edadb84d422",
   "metadata": {
    "tags": []
   },
   "outputs": [
    {
     "data": {
      "text/plain": [
       "0"
      ]
     },
     "execution_count": 21,
     "metadata": {},
     "output_type": "execute_result"
    }
   ],
   "source": [
    "customer_a_clean.duplicated().sum()"
   ]
  },
  {
   "cell_type": "code",
   "execution_count": 45,
   "id": "e9068661-3e80-46c7-bffa-c30bb8715ae3",
   "metadata": {
    "tags": []
   },
   "outputs": [
    {
     "name": "stdout",
     "output_type": "stream",
     "text": [
      "\n",
      " --- Unique Value Check: Customer A  - AFTER CLEANING ---\n",
      "Unique Customer(s): 1\n",
      "Unique Models: 47\n",
      "Unique EANs: 47\n",
      "Unique StoreIDs: 62\n",
      "Unique Store Names: 62\n"
     ]
    }
   ],
   "source": [
    "# Check unique values AFTER CLEANING\n",
    "check_uniques(customer_a_clean,\"Customer A  - AFTER CLEANING\")"
   ]
  },
  {
   "cell_type": "code",
   "execution_count": 23,
   "id": "0cbaabdd-a1c7-438d-9975-ce979ff94ae8",
   "metadata": {
    "collapsed": true,
    "jupyter": {
     "outputs_hidden": true
    },
    "tags": []
   },
   "outputs": [
    {
     "data": {
      "text/plain": [
       "Model\n",
       "32LQ63006LA.AEU    1\n",
       "OLED65C47LA.AEU    1\n",
       "OLED48C47LA.AEU    1\n",
       "OLED48G59LS.AEU    1\n",
       "OLED55B42LA.AEU    1\n",
       "OLED55C47LA.AEU    1\n",
       "OLED55G48LW.AEU    1\n",
       "OLED55G49LS.AEU    1\n",
       "OLED55G58LW.AEU    1\n",
       "OLED55G59LS.AEU    1\n",
       "OLED65B42LA.AEU    1\n",
       "OLED65G49LS.AEU    1\n",
       "OLED42C47LA.AEU    1\n",
       "OLED65G58LW.AEU    1\n",
       "OLED65G59LS.AEU    1\n",
       "OLED77B42LA.AEU    1\n",
       "OLED77C47LA.AEU    1\n",
       "OLED77C58LA.AEU    1\n",
       "OLED77G48LW.AEU    1\n",
       "OLED77G58LW.AEU    1\n",
       "OLED83C47LA.AEU    1\n",
       "UBK90.DEUSLLK      1\n",
       "OLED42C58LA.AEU    1\n",
       "DSPD7Y.DDEULLK     1\n",
       "43NANO81A6A.AEU    1\n",
       "65QNED87T6B.AEU    1\n",
       "43NANO82T6B.API    1\n",
       "43UT80006LA.API    1\n",
       "50QNED87T6B.AEU    1\n",
       "55NANO81A6A.AEU    1\n",
       "55NANO82T6B.API    1\n",
       "55QNED87T6B.AEU    1\n",
       "55UT80006LA.API    1\n",
       "55UT81006LA.AEU    1\n",
       "65NANO82T6B.API    1\n",
       "65UT80006LA.API    1\n",
       "DSG10TY.DDEULLK    1\n",
       "65UT81006LA.AEU    1\n",
       "75NANO81A6A.AEU    1\n",
       "75NANO82T6B.API    1\n",
       "75QNED87T6B.AEU    1\n",
       "75UT80006LA.API    1\n",
       "75UT81006LA.AEU    1\n",
       "DS40T.DDEULLK      1\n",
       "DS70TR.ADEULLK     1\n",
       "DSC9S.DDEULLK      1\n",
       "XL7S.DEUSLLK       1\n",
       "Name: EAN, dtype: int64"
      ]
     },
     "execution_count": 23,
     "metadata": {},
     "output_type": "execute_result"
    }
   ],
   "source": [
    "#Check for duplicate models with different EANs\n",
    "customer_a_clean.groupby('Model')['EAN'].nunique().sort_values(ascending=False)"
   ]
  },
  {
   "cell_type": "code",
   "execution_count": 26,
   "id": "96d474ac-a09d-41c6-ac31-8f33c415dc49",
   "metadata": {
    "tags": []
   },
   "outputs": [
    {
     "name": "stdout",
     "output_type": "stream",
     "text": [
      "Total Inventory units for Customer A: 243\n"
     ]
    }
   ],
   "source": [
    "# Check total Inventory\n",
    "total_stock = customer_a_clean['On-Hand (A)'].sum()\n",
    "print(f\"Total Inventory units for Customer A: {total_stock}\")"
   ]
  },
  {
   "cell_type": "code",
   "execution_count": 27,
   "id": "40951276-1b7b-48b6-a52c-883130d1d104",
   "metadata": {
    "tags": []
   },
   "outputs": [
    {
     "data": {
      "text/plain": [
       "count    233.000000\n",
       "mean       1.042918\n",
       "std        0.368892\n",
       "min       -1.000000\n",
       "25%        1.000000\n",
       "50%        1.000000\n",
       "75%        1.000000\n",
       "max        3.000000\n",
       "Name: On-Hand (A), dtype: float64"
      ]
     },
     "execution_count": 27,
     "metadata": {},
     "output_type": "execute_result"
    }
   ],
   "source": [
    "#Check for Outliers\n",
    "customer_a_clean['On-Hand (A)'].describe()"
   ]
  },
  {
   "cell_type": "code",
   "execution_count": 28,
   "id": "5be77164-2122-45de-8795-f365d78128b0",
   "metadata": {
    "tags": []
   },
   "outputs": [],
   "source": [
    "#Clean outliers\n",
    "\n",
    "customer_a_clean['On-Hand (A)'] = customer_a_clean['On-Hand (A)'].replace(-1,0)"
   ]
  },
  {
   "cell_type": "code",
   "execution_count": 29,
   "id": "58c5d285-98d9-43a9-bd4f-fc9c6c93db46",
   "metadata": {
    "tags": []
   },
   "outputs": [
    {
     "data": {
      "text/plain": [
       "count    233.000000\n",
       "mean       1.055794\n",
       "std        0.309857\n",
       "min        0.000000\n",
       "25%        1.000000\n",
       "50%        1.000000\n",
       "75%        1.000000\n",
       "max        3.000000\n",
       "Name: On-Hand (A), dtype: float64"
      ]
     },
     "execution_count": 29,
     "metadata": {},
     "output_type": "execute_result"
    }
   ],
   "source": [
    "customer_a_clean['On-Hand (A)'].describe()"
   ]
  },
  {
   "cell_type": "code",
   "execution_count": 32,
   "id": "497cb1da-a2e3-4d4f-97fc-433a259408ec",
   "metadata": {
    "tags": []
   },
   "outputs": [
    {
     "name": "stdout",
     "output_type": "stream",
     "text": [
      "Store Name\n",
      "Frankfurt/Oder, Spitzkrug-Center    19\n",
      "Saalfeld                            13\n",
      "Mettmann                            13\n",
      "Bernau                               8\n",
      "Wolfen-Bobbau                        7\n",
      "Sangerhausen                         7\n",
      "Oranienburg                          7\n",
      "Waldshut-Tiengen                     6\n",
      "Merseburg                            6\n",
      "Lüneburg                             6\n",
      "Name: On-Hand (A), dtype: int64\n"
     ]
    }
   ],
   "source": [
    "#Track INventory By Store\n",
    "\n",
    "inventory_by_store = customer_a_clean.groupby('Store Name')['On-Hand (A)'].sum().sort_values(ascending = False).head(10)\n",
    "print(inventory_by_store)"
   ]
  },
  {
   "cell_type": "markdown",
   "id": "313ad194-1843-4a4a-a5bd-117e8d527efe",
   "metadata": {},
   "source": [
    "#### Step 3 : Repeat the same for Customer B "
   ]
  },
  {
   "cell_type": "code",
   "execution_count": 33,
   "id": "5b9c7308-e3f7-4dd1-aab9-696b339ae3cb",
   "metadata": {
    "tags": []
   },
   "outputs": [
    {
     "name": "stdout",
     "output_type": "stream",
     "text": [
      "<class 'pandas.core.frame.DataFrame'>\n",
      "RangeIndex: 220 entries, 0 to 219\n",
      "Data columns (total 7 columns):\n",
      " #   Column  Non-Null Count  Dtype \n",
      "---  ------  --------------  ----- \n",
      " 0   0       220 non-null    object\n",
      " 1   1       220 non-null    object\n",
      " 2   2       220 non-null    object\n",
      " 3   3       220 non-null    object\n",
      " 4   4       220 non-null    object\n",
      " 5   5       211 non-null    object\n",
      " 6   6       182 non-null    object\n",
      "dtypes: object(7)\n",
      "memory usage: 12.2+ KB\n"
     ]
    }
   ],
   "source": [
    "customer_b_raw.info()"
   ]
  },
  {
   "cell_type": "code",
   "execution_count": 34,
   "id": "37aaf1a1-2133-4543-a98a-286b417bb907",
   "metadata": {
    "tags": []
   },
   "outputs": [
    {
     "data": {
      "text/plain": [
       "0     0\n",
       "1     0\n",
       "2     0\n",
       "3     0\n",
       "4     0\n",
       "5     9\n",
       "6    38\n",
       "dtype: int64"
      ]
     },
     "execution_count": 34,
     "metadata": {},
     "output_type": "execute_result"
    }
   ],
   "source": [
    "#Check for misisng values\n",
    "customer_b_raw.isnull().sum()"
   ]
  },
  {
   "cell_type": "code",
   "execution_count": 36,
   "id": "89b9ddb4-27dc-4f27-953c-319077ec7991",
   "metadata": {
    "tags": []
   },
   "outputs": [
    {
     "data": {
      "text/plain": [
       "0"
      ]
     },
     "execution_count": 36,
     "metadata": {},
     "output_type": "execute_result"
    }
   ],
   "source": [
    "customer_b_raw.duplicated().sum()"
   ]
  },
  {
   "cell_type": "code",
   "execution_count": 38,
   "id": "6f970654-2445-47ec-a192-f926f394b77d",
   "metadata": {
    "tags": []
   },
   "outputs": [
    {
     "data": {
      "text/plain": [
       "1\n",
       "ASIN                       0\n",
       "Product title              0\n",
       "Brand                      0\n",
       "Category                   0\n",
       "EAN                        0\n",
       "Model number               9\n",
       "Sellable On Hand Units    38\n",
       "dtype: int64"
      ]
     },
     "execution_count": 38,
     "metadata": {},
     "output_type": "execute_result"
    }
   ],
   "source": [
    "#Set correct headers for Customer B and check missing values\n",
    "\n",
    "customer_b_raw.columns  = customer_b_raw.iloc[1]\n",
    "customer_b_clean = customer_b_raw[2:].copy()\n",
    "customer_b_raw.isnull().sum()"
   ]
  },
  {
   "cell_type": "code",
   "execution_count": 39,
   "id": "ecddec56-1230-4204-ba3f-210fd154df67",
   "metadata": {
    "tags": []
   },
   "outputs": [
    {
     "name": "stdout",
     "output_type": "stream",
     "text": [
      "<class 'pandas.core.frame.DataFrame'>\n",
      "RangeIndex: 218 entries, 2 to 219\n",
      "Data columns (total 7 columns):\n",
      " #   Column                  Non-Null Count  Dtype \n",
      "---  ------                  --------------  ----- \n",
      " 0   ASIN                    218 non-null    object\n",
      " 1   Product title           218 non-null    object\n",
      " 2   Brand                   218 non-null    object\n",
      " 3   Category                218 non-null    object\n",
      " 4   EAN                     218 non-null    object\n",
      " 5   Model number            209 non-null    object\n",
      " 6   Sellable On Hand Units  181 non-null    object\n",
      "dtypes: object(7)\n",
      "memory usage: 12.1+ KB\n"
     ]
    }
   ],
   "source": [
    "customer_b_clean.info()"
   ]
  },
  {
   "cell_type": "code",
   "execution_count": 46,
   "id": "e11f80fe-a10a-4e1d-910d-196e6e76d2e7",
   "metadata": {
    "tags": []
   },
   "outputs": [
    {
     "name": "stdout",
     "output_type": "stream",
     "text": [
      "\n",
      " --- Unique Value Check: Customer B - Before cleaning ---\n",
      "Unique Customer(s): N/A\n",
      "Unique Models: N/A\n",
      "Unique EANs: 218\n",
      "Unique StoreIDs: N/A\n",
      "Unique Store Names: N/A\n"
     ]
    }
   ],
   "source": [
    "check_uniques(customer_b_clean, \"Customer B - Before cleaning\")"
   ]
  },
  {
   "cell_type": "code",
   "execution_count": 41,
   "id": "7a0f356b-1435-48fc-9f1b-14dea264936f",
   "metadata": {
    "tags": []
   },
   "outputs": [
    {
     "data": {
      "text/plain": [
       "1\n",
       "ASIN                       0\n",
       "Product title              0\n",
       "Brand                      0\n",
       "Category                   0\n",
       "EAN                        0\n",
       "Model number               9\n",
       "Sellable On Hand Units    37\n",
       "dtype: int64"
      ]
     },
     "execution_count": 41,
     "metadata": {},
     "output_type": "execute_result"
    }
   ],
   "source": [
    "customer_b_clean.isnull().sum()"
   ]
  },
  {
   "cell_type": "code",
   "execution_count": 42,
   "id": "71077419-6cf8-4a5b-a5d8-cfec71183d63",
   "metadata": {
    "tags": []
   },
   "outputs": [
    {
     "data": {
      "text/plain": [
       "0"
      ]
     },
     "execution_count": 42,
     "metadata": {},
     "output_type": "execute_result"
    }
   ],
   "source": [
    "customer_b_clean.duplicated().sum()"
   ]
  },
  {
   "cell_type": "code",
   "execution_count": 52,
   "id": "90d58157-e15b-4052-9ee0-1ad900c8714a",
   "metadata": {
    "tags": []
   },
   "outputs": [],
   "source": [
    "# Clean Customer B \n",
    "\n",
    "customer_b_raw.columns  = customer_b_raw.iloc[1]\n",
    "customer_b_clean = customer_b_raw[2:]\n",
    "customer_b_clean = customer_b_clean[[\n",
    "    'EAN','Model number','Sellable On Hand Units','Product title'\n",
    "]].rename(columns={\n",
    "    'EAN' :'EAN',\n",
    "    'Model number': 'Model',\n",
    "    'Sellable On Hand Units' : 'On-Hand (A)',\n",
    "    'Product title'           : 'Artikelbezeichnung'\n",
    "})\n",
    "\n",
    "customer_b_clean['Customer'] = 'Customer B'\n",
    "customer_b_clean['StoreID']  = None\n",
    "customer_b_clean['Store Name'] = None\n",
    "customer_b_clean['Model'] =  customer_b_clean['Model'].astype(str).str.strip()\n",
    "customer_b_clean['Artikelbezeichnung'] =  customer_b_clean['Artikelbezeichnung'].astype(str).str.strip() \n",
    "customer_b_clean['Store Name'] =  customer_b_clean['Store Name'].astype(str).str.strip()\n",
    "customer_b_clean['EAN'] =  customer_b_clean['EAN'].astype(str).str.strip()\n",
    "customer_b_clean['On-Hand (A)'] =  pd.to_numeric(customer_b_clean['On-Hand (A)'], errors='coerce')\n",
    "    \n",
    "\n"
   ]
  },
  {
   "cell_type": "code",
   "execution_count": 65,
   "id": "6a03daf4-b064-4060-ba58-ac2ad2486922",
   "metadata": {
    "tags": []
   },
   "outputs": [
    {
     "data": {
      "text/html": [
       "<div>\n",
       "<style scoped>\n",
       "    .dataframe tbody tr th:only-of-type {\n",
       "        vertical-align: middle;\n",
       "    }\n",
       "\n",
       "    .dataframe tbody tr th {\n",
       "        vertical-align: top;\n",
       "    }\n",
       "\n",
       "    .dataframe thead th {\n",
       "        text-align: right;\n",
       "    }\n",
       "</style>\n",
       "<table border=\"1\" class=\"dataframe\">\n",
       "  <thead>\n",
       "    <tr style=\"text-align: right;\">\n",
       "      <th>1</th>\n",
       "      <th>EAN</th>\n",
       "      <th>Model</th>\n",
       "      <th>On-Hand (A)</th>\n",
       "      <th>Artikelbezeichnung</th>\n",
       "      <th>Customer</th>\n",
       "      <th>StoreID</th>\n",
       "      <th>Store Name</th>\n",
       "    </tr>\n",
       "  </thead>\n",
       "  <tbody>\n",
       "    <tr>\n",
       "      <th>2</th>\n",
       "      <td>8806096091258</td>\n",
       "      <td>OLED65C47LA.AEUD</td>\n",
       "      <td>958.0</td>\n",
       "      <td>LG OLED65C47LA TV 65\" (165 cm) OLED evo Fernse...</td>\n",
       "      <td>Customer B</td>\n",
       "      <td>None</td>\n",
       "      <td>NaN</td>\n",
       "    </tr>\n",
       "    <tr>\n",
       "      <th>3</th>\n",
       "      <td>8806096134214</td>\n",
       "      <td>65QNED86T6A.AEUD</td>\n",
       "      <td>534.0</td>\n",
       "      <td>LG 65QNED86T6A TV 65\" (165 cm) QNED Fernseher ...</td>\n",
       "      <td>Customer B</td>\n",
       "      <td>None</td>\n",
       "      <td>NaN</td>\n",
       "    </tr>\n",
       "    <tr>\n",
       "      <th>4</th>\n",
       "      <td>8806091933591</td>\n",
       "      <td>OLED48B49LA.AEU</td>\n",
       "      <td>764.0</td>\n",
       "      <td>LG OLED48B49LA TV 48\" (121 cm) OLED Fernseher ...</td>\n",
       "      <td>Customer B</td>\n",
       "      <td>None</td>\n",
       "      <td>NaN</td>\n",
       "    </tr>\n",
       "    <tr>\n",
       "      <th>5</th>\n",
       "      <td>8806096091166</td>\n",
       "      <td>OLED77C47LA.AEUD</td>\n",
       "      <td>408.0</td>\n",
       "      <td>LG OLED77C47LA TV 77\" (195 cm) OLED evo Fernse...</td>\n",
       "      <td>Customer B</td>\n",
       "      <td>None</td>\n",
       "      <td>NaN</td>\n",
       "    </tr>\n",
       "    <tr>\n",
       "      <th>6</th>\n",
       "      <td>8806096091395</td>\n",
       "      <td>OLED42C47LA.AEUD</td>\n",
       "      <td>879.0</td>\n",
       "      <td>LG OLED42C47LA TV 42\" (106 cm) OLED evo Fernse...</td>\n",
       "      <td>Customer B</td>\n",
       "      <td>None</td>\n",
       "      <td>NaN</td>\n",
       "    </tr>\n",
       "  </tbody>\n",
       "</table>\n",
       "</div>"
      ],
      "text/plain": [
       "1            EAN             Model  On-Hand (A)  \\\n",
       "2  8806096091258  OLED65C47LA.AEUD        958.0   \n",
       "3  8806096134214  65QNED86T6A.AEUD        534.0   \n",
       "4  8806091933591   OLED48B49LA.AEU        764.0   \n",
       "5  8806096091166  OLED77C47LA.AEUD        408.0   \n",
       "6  8806096091395  OLED42C47LA.AEUD        879.0   \n",
       "\n",
       "1                                 Artikelbezeichnung    Customer StoreID  \\\n",
       "2  LG OLED65C47LA TV 65\" (165 cm) OLED evo Fernse...  Customer B    None   \n",
       "3  LG 65QNED86T6A TV 65\" (165 cm) QNED Fernseher ...  Customer B    None   \n",
       "4  LG OLED48B49LA TV 48\" (121 cm) OLED Fernseher ...  Customer B    None   \n",
       "5  LG OLED77C47LA TV 77\" (195 cm) OLED evo Fernse...  Customer B    None   \n",
       "6  LG OLED42C47LA TV 42\" (106 cm) OLED evo Fernse...  Customer B    None   \n",
       "\n",
       "1  Store Name  \n",
       "2         NaN  \n",
       "3         NaN  \n",
       "4         NaN  \n",
       "5         NaN  \n",
       "6         NaN  "
      ]
     },
     "execution_count": 65,
     "metadata": {},
     "output_type": "execute_result"
    }
   ],
   "source": [
    "customer_b_clean.head()"
   ]
  },
  {
   "cell_type": "code",
   "execution_count": 55,
   "id": "b3df7b3c-97ec-4510-b6c7-c70317da97e9",
   "metadata": {
    "tags": []
   },
   "outputs": [
    {
     "data": {
      "text/plain": [
       "1\n",
       "EAN                     0\n",
       "Model                   0\n",
       "On-Hand (A)            37\n",
       "Artikelbezeichnung      0\n",
       "Customer                0\n",
       "StoreID               218\n",
       "Store Name              0\n",
       "dtype: int64"
      ]
     },
     "execution_count": 55,
     "metadata": {},
     "output_type": "execute_result"
    }
   ],
   "source": [
    "customer_b_clean.isnull().sum()"
   ]
  },
  {
   "cell_type": "code",
   "execution_count": 58,
   "id": "9edc2990-577e-448a-ab8a-b3a45da10316",
   "metadata": {
    "tags": []
   },
   "outputs": [
    {
     "data": {
      "text/plain": [
       "array(['None'], dtype=object)"
      ]
     },
     "execution_count": 58,
     "metadata": {},
     "output_type": "execute_result"
    }
   ],
   "source": [
    "customer_b_clean['Store Name'].unique()"
   ]
  },
  {
   "cell_type": "code",
   "execution_count": 62,
   "id": "cb9e2d1b-5277-4285-91b5-9c2734c61b83",
   "metadata": {
    "tags": []
   },
   "outputs": [],
   "source": [
    "customer_b_clean['Store Name'].replace('None',np.nan, inplace = True)\n"
   ]
  },
  {
   "cell_type": "code",
   "execution_count": 63,
   "id": "8e738efa-4c41-4db5-b8a9-be01eb7b7458",
   "metadata": {
    "tags": []
   },
   "outputs": [
    {
     "data": {
      "text/plain": [
       "1\n",
       "EAN                     0\n",
       "Model                   0\n",
       "On-Hand (A)            37\n",
       "Artikelbezeichnung      0\n",
       "Customer                0\n",
       "StoreID               218\n",
       "Store Name            218\n",
       "dtype: int64"
      ]
     },
     "execution_count": 63,
     "metadata": {},
     "output_type": "execute_result"
    }
   ],
   "source": [
    "customer_b_clean.isnull().sum()"
   ]
  },
  {
   "cell_type": "code",
   "execution_count": 64,
   "id": "14b8590f-a5bb-4938-8ce5-1b663361211f",
   "metadata": {
    "tags": []
   },
   "outputs": [
    {
     "name": "stdout",
     "output_type": "stream",
     "text": [
      "<class 'pandas.core.frame.DataFrame'>\n",
      "RangeIndex: 218 entries, 2 to 219\n",
      "Data columns (total 7 columns):\n",
      " #   Column              Non-Null Count  Dtype  \n",
      "---  ------              --------------  -----  \n",
      " 0   EAN                 218 non-null    object \n",
      " 1   Model               218 non-null    object \n",
      " 2   On-Hand (A)         181 non-null    float64\n",
      " 3   Artikelbezeichnung  218 non-null    object \n",
      " 4   Customer            218 non-null    object \n",
      " 5   StoreID             0 non-null      object \n",
      " 6   Store Name          0 non-null      float64\n",
      "dtypes: float64(2), object(5)\n",
      "memory usage: 12.1+ KB\n"
     ]
    }
   ],
   "source": [
    "customer_b_clean.info()"
   ]
  },
  {
   "cell_type": "code",
   "execution_count": 57,
   "id": "eeb6745f-af3f-49d6-9842-782b2f23d94e",
   "metadata": {
    "tags": []
   },
   "outputs": [
    {
     "name": "stdout",
     "output_type": "stream",
     "text": [
      "\n",
      " --- Unique Value Check: Customer B  - AFTER Cleaning  ---\n",
      "Unique Customer(s): 1\n",
      "Unique Models: 207\n",
      "Unique EANs: 218\n",
      "Unique StoreIDs: 0\n",
      "Unique Store Names: 1\n"
     ]
    }
   ],
   "source": [
    "check_uniques(customer_b_clean, \"Customer B  - AFTER Cleaning \")"
   ]
  },
  {
   "cell_type": "code",
   "execution_count": 67,
   "id": "48aaa28a-10a5-4e25-ba03-a04744db7eae",
   "metadata": {
    "tags": []
   },
   "outputs": [
    {
     "name": "stdout",
     "output_type": "stream",
     "text": [
      "Total Inventory units for Customer B: 20473.0\n"
     ]
    }
   ],
   "source": [
    "# Check total Inventory\n",
    "total_stock = customer_b_clean['On-Hand (A)'].sum()\n",
    "print(f\"Total Inventory units for Customer B: {total_stock}\")"
   ]
  },
  {
   "cell_type": "code",
   "execution_count": 68,
   "id": "2d9373a2-0eaf-4c98-a5fb-5ae8ee807e97",
   "metadata": {
    "tags": []
   },
   "outputs": [
    {
     "data": {
      "text/plain": [
       "count     181.000000\n",
       "mean      113.110497\n",
       "std       238.196788\n",
       "min         0.000000\n",
       "25%         1.000000\n",
       "50%         3.000000\n",
       "75%        49.000000\n",
       "max      1235.000000\n",
       "Name: On-Hand (A), dtype: float64"
      ]
     },
     "execution_count": 68,
     "metadata": {},
     "output_type": "execute_result"
    }
   ],
   "source": [
    "#Outliers Check \n",
    "customer_b_clean['On-Hand (A)'].describe()"
   ]
  },
  {
   "cell_type": "code",
   "execution_count": 69,
   "id": "07e38ed1-4a15-4b7e-9979-799b4a573e2a",
   "metadata": {
    "tags": []
   },
   "outputs": [
    {
     "name": "stdout",
     "output_type": "stream",
     "text": [
      "Series([], Name: On-Hand (A), dtype: float64)\n"
     ]
    }
   ],
   "source": [
    "#Track INventory By Store\n",
    "\n",
    "inventory_by_store = customer_b_clean.groupby('Store Name')['On-Hand (A)'].sum().sort_values(ascending = False).head(10)\n",
    "print(inventory_by_store)"
   ]
  },
  {
   "cell_type": "markdown",
   "id": "5e07bac7-ecde-4ca8-b11a-5da38355af77",
   "metadata": {},
   "source": [
    "#### Step 4 : Repeat the same for Customer  C."
   ]
  },
  {
   "cell_type": "code",
   "execution_count": 75,
   "id": "3c8ff32e-a8d1-4aab-85b1-125502577a5b",
   "metadata": {
    "tags": []
   },
   "outputs": [
    {
     "name": "stdout",
     "output_type": "stream",
     "text": [
      "<class 'pandas.core.frame.DataFrame'>\n",
      "RangeIndex: 643 entries, 0 to 642\n",
      "Data columns (total 7 columns):\n",
      " #   Column              Non-Null Count  Dtype  \n",
      "---  ------              --------------  -----  \n",
      " 0   Customer Model      643 non-null    int64  \n",
      " 1   Model ID            617 non-null    object \n",
      " 2   EAN / UPC           635 non-null    float64\n",
      " 3   Artikelbezeichnung  622 non-null    object \n",
      " 4   StoreID             643 non-null    int64  \n",
      " 5   Store Name          643 non-null    object \n",
      " 6   On-Hand (A)         622 non-null    float64\n",
      "dtypes: float64(2), int64(2), object(3)\n",
      "memory usage: 35.3+ KB\n"
     ]
    }
   ],
   "source": [
    "customer_c.info()"
   ]
  },
  {
   "cell_type": "code",
   "execution_count": 76,
   "id": "71c1d9f5-be87-4363-b7da-88d3bb14f5cf",
   "metadata": {
    "tags": []
   },
   "outputs": [
    {
     "data": {
      "text/plain": [
       "0"
      ]
     },
     "execution_count": 76,
     "metadata": {},
     "output_type": "execute_result"
    }
   ],
   "source": [
    "#Check for dulpicates\n",
    "customer_c.duplicated().sum()"
   ]
  },
  {
   "cell_type": "code",
   "execution_count": 77,
   "id": "14e81af8-af34-4596-8178-d5809345ec10",
   "metadata": {
    "tags": []
   },
   "outputs": [
    {
     "data": {
      "text/plain": [
       "Customer Model         0\n",
       "Model ID              26\n",
       "EAN / UPC              8\n",
       "Artikelbezeichnung    21\n",
       "StoreID                0\n",
       "Store Name             0\n",
       "On-Hand (A)           21\n",
       "dtype: int64"
      ]
     },
     "execution_count": 77,
     "metadata": {},
     "output_type": "execute_result"
    }
   ],
   "source": [
    "# check for missing values\n",
    "customer_c.isnull().sum()"
   ]
  },
  {
   "cell_type": "code",
   "execution_count": 79,
   "id": "5c0378a1-000b-4b13-bfc7-28ea81df149c",
   "metadata": {
    "tags": []
   },
   "outputs": [
    {
     "name": "stdout",
     "output_type": "stream",
     "text": [
      "\n",
      " --- Unique Value Check: Customer C  - Before Cleaning  ---\n",
      "Unique Customer(s): N/A\n",
      "Unique Models: N/A\n",
      "Unique EANs: N/A\n",
      "Unique StoreIDs: 155\n",
      "Unique Store Names: 150\n"
     ]
    }
   ],
   "source": [
    "# Check Unique values\n",
    "check_uniques(customer_c, \"Customer C  - Before Cleaning \")"
   ]
  },
  {
   "cell_type": "code",
   "execution_count": 83,
   "id": "7cc71ac3-50db-4975-b40b-2c0a794fc37b",
   "metadata": {
    "tags": []
   },
   "outputs": [],
   "source": [
    "# Clean Customer C \n",
    "customer_c['Model']    =  customer_c['Customer Model'].astype(str).str.strip() + ' / ' + customer_c['Model ID'].astype(str).str.strip()\n",
    "customer_c_clean      =  customer_c.rename(columns={\n",
    "    'HerstellerArtNr' :  'Model',\n",
    "    'StoreID'         : 'StoreID',\n",
    "    'Store Name'      :'Store Name',\n",
    "    'On-Hand (A)'         : 'On-Hand (A)',\n",
    "    'Artikelbezeichnung'  : 'Artikelbezeichnung',\n",
    "    'EAN / UPC'                : 'EAN'\n",
    "})\n",
    "\n",
    "customer_c_clean['Customer'] = 'Customer C'\n",
    "customer_c_clean['Model'] =  customer_c_clean['Model'].astype(str).str.strip()\n",
    "customer_c_clean['Artikelbezeichnung'] =  customer_c_clean['Artikelbezeichnung'].astype(str).str.strip() \n",
    "customer_c_clean['Store Name'] =  customer_c_clean['Store Name'].astype(str).str.strip()\n",
    "customer_c_clean['EAN'] =  customer_c_clean['EAN'].astype(str).str.strip()\n",
    "customer_c_clean['On-Hand (A)'] =  pd.to_numeric(customer_c_clean['On-Hand (A)'],errors='coerce')"
   ]
  },
  {
   "cell_type": "code",
   "execution_count": 84,
   "id": "56441a36-3ce2-4e6b-8ef9-585621dae28c",
   "metadata": {
    "tags": []
   },
   "outputs": [
    {
     "data": {
      "text/html": [
       "<div>\n",
       "<style scoped>\n",
       "    .dataframe tbody tr th:only-of-type {\n",
       "        vertical-align: middle;\n",
       "    }\n",
       "\n",
       "    .dataframe tbody tr th {\n",
       "        vertical-align: top;\n",
       "    }\n",
       "\n",
       "    .dataframe thead th {\n",
       "        text-align: right;\n",
       "    }\n",
       "</style>\n",
       "<table border=\"1\" class=\"dataframe\">\n",
       "  <thead>\n",
       "    <tr style=\"text-align: right;\">\n",
       "      <th></th>\n",
       "      <th>Customer Model</th>\n",
       "      <th>Model ID</th>\n",
       "      <th>EAN</th>\n",
       "      <th>Artikelbezeichnung</th>\n",
       "      <th>StoreID</th>\n",
       "      <th>Store Name</th>\n",
       "      <th>On-Hand (A)</th>\n",
       "      <th>Model</th>\n",
       "      <th>Customer</th>\n",
       "    </tr>\n",
       "  </thead>\n",
       "  <tbody>\n",
       "    <tr>\n",
       "      <th>0</th>\n",
       "      <td>473370</td>\n",
       "      <td>16090</td>\n",
       "      <td>4005161043510.0</td>\n",
       "      <td>LAC-M 1600 R Schwarz-Silber</td>\n",
       "      <td>1140480</td>\n",
       "      <td>ETS:Schuller</td>\n",
       "      <td>1.0</td>\n",
       "      <td>473370 / 16090</td>\n",
       "      <td>Customer C</td>\n",
       "    </tr>\n",
       "    <tr>\n",
       "      <th>1</th>\n",
       "      <td>473370</td>\n",
       "      <td>16090</td>\n",
       "      <td>4005161043510.0</td>\n",
       "      <td>LAC-M 1600 R Schwarz-Silber</td>\n",
       "      <td>1194360</td>\n",
       "      <td>ETS:Schuller</td>\n",
       "      <td>1.0</td>\n",
       "      <td>473370 / 16090</td>\n",
       "      <td>Customer C</td>\n",
       "    </tr>\n",
       "    <tr>\n",
       "      <th>2</th>\n",
       "      <td>1088233</td>\n",
       "      <td>22MP58VQ-P</td>\n",
       "      <td>8806087593051.0</td>\n",
       "      <td>22MP58VQ-P Klavierlack-Schwarz</td>\n",
       "      <td>1126560</td>\n",
       "      <td>ETS:Engelmann &amp; Fries</td>\n",
       "      <td>3.0</td>\n",
       "      <td>1088233 / 22MP58VQ-P</td>\n",
       "      <td>Customer C</td>\n",
       "    </tr>\n",
       "    <tr>\n",
       "      <th>3</th>\n",
       "      <td>782275</td>\n",
       "      <td>24EN33V-B</td>\n",
       "      <td>8806084196712.0</td>\n",
       "      <td>24EN33V-B Mattschwarz</td>\n",
       "      <td>1152720</td>\n",
       "      <td>SP:Efs</td>\n",
       "      <td>1.0</td>\n",
       "      <td>782275 / 24EN33V-B</td>\n",
       "      <td>Customer C</td>\n",
       "    </tr>\n",
       "    <tr>\n",
       "      <th>4</th>\n",
       "      <td>1187684</td>\n",
       "      <td>24M38H-B</td>\n",
       "      <td>8806087549140.0</td>\n",
       "      <td>24M38H-B Schwarz</td>\n",
       "      <td>1152720</td>\n",
       "      <td>SP:Efs</td>\n",
       "      <td>3.0</td>\n",
       "      <td>1187684 / 24M38H-B</td>\n",
       "      <td>Customer C</td>\n",
       "    </tr>\n",
       "  </tbody>\n",
       "</table>\n",
       "</div>"
      ],
      "text/plain": [
       "   Customer Model    Model ID              EAN  \\\n",
       "0          473370       16090  4005161043510.0   \n",
       "1          473370       16090  4005161043510.0   \n",
       "2         1088233  22MP58VQ-P  8806087593051.0   \n",
       "3          782275   24EN33V-B  8806084196712.0   \n",
       "4         1187684    24M38H-B  8806087549140.0   \n",
       "\n",
       "               Artikelbezeichnung  StoreID             Store Name  \\\n",
       "0     LAC-M 1600 R Schwarz-Silber  1140480           ETS:Schuller   \n",
       "1     LAC-M 1600 R Schwarz-Silber  1194360           ETS:Schuller   \n",
       "2  22MP58VQ-P Klavierlack-Schwarz  1126560  ETS:Engelmann & Fries   \n",
       "3           24EN33V-B Mattschwarz  1152720                 SP:Efs   \n",
       "4                24M38H-B Schwarz  1152720                 SP:Efs   \n",
       "\n",
       "   On-Hand (A)                 Model    Customer  \n",
       "0          1.0        473370 / 16090  Customer C  \n",
       "1          1.0        473370 / 16090  Customer C  \n",
       "2          3.0  1088233 / 22MP58VQ-P  Customer C  \n",
       "3          1.0    782275 / 24EN33V-B  Customer C  \n",
       "4          3.0    1187684 / 24M38H-B  Customer C  "
      ]
     },
     "execution_count": 84,
     "metadata": {},
     "output_type": "execute_result"
    }
   ],
   "source": [
    "customer_c_clean.head()"
   ]
  },
  {
   "cell_type": "code",
   "execution_count": 85,
   "id": "2dab1d07-864d-4902-b318-2308e45c2753",
   "metadata": {
    "tags": []
   },
   "outputs": [
    {
     "name": "stdout",
     "output_type": "stream",
     "text": [
      "<class 'pandas.core.frame.DataFrame'>\n",
      "RangeIndex: 643 entries, 0 to 642\n",
      "Data columns (total 9 columns):\n",
      " #   Column              Non-Null Count  Dtype  \n",
      "---  ------              --------------  -----  \n",
      " 0   Customer Model      643 non-null    int64  \n",
      " 1   Model ID            617 non-null    object \n",
      " 2   EAN                 643 non-null    object \n",
      " 3   Artikelbezeichnung  643 non-null    object \n",
      " 4   StoreID             643 non-null    int64  \n",
      " 5   Store Name          643 non-null    object \n",
      " 6   On-Hand (A)         622 non-null    float64\n",
      " 7   Model               643 non-null    object \n",
      " 8   Customer            643 non-null    object \n",
      "dtypes: float64(1), int64(2), object(6)\n",
      "memory usage: 45.3+ KB\n"
     ]
    }
   ],
   "source": [
    "customer_c_clean.info()"
   ]
  },
  {
   "cell_type": "code",
   "execution_count": 86,
   "id": "399c1d52-f78b-4a31-b7aa-a7625777d454",
   "metadata": {
    "tags": []
   },
   "outputs": [
    {
     "data": {
      "text/plain": [
       "Customer Model         0\n",
       "Model ID              26\n",
       "EAN                    0\n",
       "Artikelbezeichnung     0\n",
       "StoreID                0\n",
       "Store Name             0\n",
       "On-Hand (A)           21\n",
       "Model                  0\n",
       "Customer               0\n",
       "dtype: int64"
      ]
     },
     "execution_count": 86,
     "metadata": {},
     "output_type": "execute_result"
    }
   ],
   "source": [
    "customer_c_clean.isnull().sum()"
   ]
  },
  {
   "cell_type": "code",
   "execution_count": 87,
   "id": "69dac382-f71f-4ea6-8725-804ec387262c",
   "metadata": {
    "tags": []
   },
   "outputs": [
    {
     "data": {
      "text/plain": [
       "0"
      ]
     },
     "execution_count": 87,
     "metadata": {},
     "output_type": "execute_result"
    }
   ],
   "source": [
    "customer_c_clean.duplicated().sum()"
   ]
  },
  {
   "cell_type": "code",
   "execution_count": 89,
   "id": "016c44bf-4c98-4828-b6f4-d3df5f25e256",
   "metadata": {
    "tags": []
   },
   "outputs": [
    {
     "data": {
      "text/plain": [
       "count    622.000000\n",
       "mean       1.472669\n",
       "std        1.369695\n",
       "min        1.000000\n",
       "25%        1.000000\n",
       "50%        1.000000\n",
       "75%        2.000000\n",
       "max       23.000000\n",
       "Name: On-Hand (A), dtype: float64"
      ]
     },
     "execution_count": 89,
     "metadata": {},
     "output_type": "execute_result"
    }
   ],
   "source": [
    "customer_c_clean['On-Hand (A)'].describe()"
   ]
  },
  {
   "cell_type": "code",
   "execution_count": 90,
   "id": "4b9713e2-70c6-4d16-893d-c68b819964ac",
   "metadata": {
    "tags": []
   },
   "outputs": [
    {
     "name": "stdout",
     "output_type": "stream",
     "text": [
      "Total Inventory units for Customer C: 916.0\n"
     ]
    }
   ],
   "source": [
    "# Check total Inventory\n",
    "total_stock = customer_c_clean['On-Hand (A)'].sum()\n",
    "print(f\"Total Inventory units for Customer C: {total_stock}\")"
   ]
  },
  {
   "cell_type": "code",
   "execution_count": 91,
   "id": "794b8eca-86f1-4bd6-827b-cdc422f71688",
   "metadata": {
    "tags": []
   },
   "outputs": [
    {
     "name": "stdout",
     "output_type": "stream",
     "text": [
      "Store Name\n",
      "ETS:Hönig                           77.0\n",
      "ETS:Raschka                         69.0\n",
      "ETS:Schuller                        46.0\n",
      "ETS:Nelles                          43.0\n",
      "ETS:Nußbaum                         29.0\n",
      "ETS:Radio City Overath GmbH         28.0\n",
      "ETS:Pitsch                          27.0\n",
      "ETS:TV Video-HiFi-Technik Lindau    21.0\n",
      "ETS:Quindt                          19.0\n",
      "ETS:Artinger                        16.0\n",
      "Name: On-Hand (A), dtype: float64\n"
     ]
    }
   ],
   "source": [
    "#Track INventory By Store\n",
    "\n",
    "inventory_by_store = customer_c_clean.groupby('Store Name')['On-Hand (A)'].sum().sort_values(ascending = False).head(10)\n",
    "print(inventory_by_store)"
   ]
  },
  {
   "cell_type": "markdown",
   "id": "d741f5f9-38ad-450a-8031-a2d2f0eff013",
   "metadata": {},
   "source": [
    "#### Step 5 : Merge all the Files"
   ]
  },
  {
   "cell_type": "code",
   "execution_count": 102,
   "id": "1f11621b-bc29-460d-aec1-e06bcfe3e716",
   "metadata": {
    "tags": []
   },
   "outputs": [],
   "source": [
    "common_columns = ['Customer','EAN','Model', 'Artikelbezeichnung' ,'StoreID','Store Name', 'On-Hand (A)']\n",
    "customer_a_final = customer_a_clean[common_columns]\n",
    "customer_b_final = customer_b_clean[common_columns]\n",
    "customer_c_final = customer_c_clean[common_columns]\n",
    "\n",
    "consolidated_inventory = pd.concat([customer_a_final,customer_b_final,customer_c_final],ignore_index = True)\n",
    "\n",
    "# group & Summarize Inventory By EAN and Group By Store level\n",
    "grouped_by_ean  = consolidated_inventory.groupby(['EAN','Model','Artikelbezeichnung'])['On-Hand (A)'].sum().reset_index()\n",
    "grouped_by_ean_store = consolidated_inventory.groupby(['EAN','Model','Artikelbezeichnung','StoreID','Store Name'])['On-Hand (A)'].sum().reset_index()\n",
    "\n",
    "\n",
    "# Export Grouped data to Excel\n",
    "grouped_by_ean.to_excel(\"Inventory_By_EAN.xlsx\",index = False)\n",
    "grouped_by_ean_store.to_excel(\"Inventory_By_EAN_Store.xlsx\",index = False)"
   ]
  },
  {
   "cell_type": "markdown",
   "id": "a9029a19-e678-4145-8d85-a55b22ddb2f5",
   "metadata": {},
   "source": [
    "#### Step 6 : Identify the Missing values and export to a seperate sheet"
   ]
  },
  {
   "cell_type": "code",
   "execution_count": 108,
   "id": "bb704ab8-c502-4eed-9e5a-783279ec0de5",
   "metadata": {
    "tags": []
   },
   "outputs": [
    {
     "name": "stdout",
     "output_type": "stream",
     "text": [
      " Exported 58 rows with missing Model or EAN to : exports_20250603_225753\\missing_model_or_ean_20250603_225753.xlsx\n"
     ]
    }
   ],
   "source": [
    "#Treat both Nan and empty string as missing\n",
    "\n",
    "missing_key_rows = consolidated_inventory[\n",
    "                   (consolidated_inventory['Model'].isna() | (consolidated_inventory['Model'].str.strip() == '')) |\n",
    "                   (consolidated_inventory['EAN'].isna() | (consolidated_inventory['EAN'].str.strip() == ''))|\n",
    "                   (consolidated_inventory['On-Hand (A)'].isna())\n",
    "]\n",
    "\n",
    "# Add Time Stamp to filename \n",
    "                   \n",
    "timestamp = datetime.now().strftime(\"%Y%m%d_%H%M%S\")\n",
    "folder_name = f\"exports_{timestamp}\"\n",
    "os.makedirs(folder_name, exist_ok=True)  \n",
    "                   \n",
    "# Export missing File names \n",
    "missing_filename  =      os.path.join(folder_name ,f\"missing_model_or_ean_{timestamp}.xlsx\")\n",
    "missing_key_rows.to_excel(missing_filename , index = False)\n",
    "\n",
    "print (f\" Exported {len(missing_key_rows)} rows with missing Model or EAN to : {missing_filename}\")\n",
    "                   "
   ]
  },
  {
   "cell_type": "markdown",
   "id": "532c33f7-c801-4e2b-a92c-c70aa59249a1",
   "metadata": {},
   "source": [
    "#### Step 7 : Export Clean Data Set"
   ]
  },
  {
   "cell_type": "code",
   "execution_count": 109,
   "id": "f42049fa-6b83-4e76-8ea5-77a0c89c657e",
   "metadata": {
    "tags": []
   },
   "outputs": [
    {
     "name": "stdout",
     "output_type": "stream",
     "text": [
      " Cleaned Inventory exported to  to : exports_20250603_225753\\cleaned_inventory_20250603_225753.xlsx\n"
     ]
    }
   ],
   "source": [
    "cleaned_filename = os.path.join(folder_name ,f\"cleaned_inventory_{timestamp}.xlsx\")\n",
    "consolidated_inventory.to_excel(cleaned_filename, index = False)\n",
    "print(f\" Cleaned Inventory exported to  to : {cleaned_filename}\")"
   ]
  },
  {
   "cell_type": "markdown",
   "id": "07b1c2f6-8e03-4179-8e7d-84a5ebcc282c",
   "metadata": {},
   "source": [
    "#### Step 8 : Export Summary Report by Model\n"
   ]
  },
  {
   "cell_type": "code",
   "execution_count": 112,
   "id": "54f2bd44-1d49-49fb-946c-d69575c94f9b",
   "metadata": {
    "tags": []
   },
   "outputs": [
    {
     "name": "stdout",
     "output_type": "stream",
     "text": [
      " Summary by Model is  exported to  to : exports_20250603_225753\\summary_by_model_20250603_225753.xlsx\n"
     ]
    }
   ],
   "source": [
    "summary_by_model = consolidated_inventory.groupby('Model', as_index = False)['On-Hand (A)'].sum()\n",
    "summary_filename = os.path.join(folder_name ,f\"summary_by_model_{timestamp}.xlsx\")\n",
    "summary_by_model .to_excel(summary_filename, index = False)\n",
    "\n",
    "print(f\" Summary by Model is  exported to  to : {summary_filename}\")"
   ]
  },
  {
   "cell_type": "markdown",
   "id": "e3f133e9-5f80-4032-8ee0-2f61744e711f",
   "metadata": {},
   "source": [
    "#### Step 9 : Create a Process Log\n"
   ]
  },
  {
   "cell_type": "code",
   "execution_count": 113,
   "id": "866420ce-0126-4209-82f4-00f7cdc70aca",
   "metadata": {
    "tags": []
   },
   "outputs": [
    {
     "name": "stdout",
     "output_type": "stream",
     "text": [
      "📝 Process log created at: exports_20250603_225753\\log_20250603_225753.txt\n"
     ]
    }
   ],
   "source": [
    "log_path = os.path.join(folder_name, f\"log_{timestamp}.txt\")\n",
    "with open(log_path, 'w') as f:\n",
    "    f.write(\"Log: Inventory Merge and Cleaning Process\\n\")\n",
    "    f.write(f\"Missing rows exported: {missing_filename}\\n\")\n",
    "    f.write(f\"Cleaned inventory file: {cleaned_filename}\\n\")\n",
    "    f.write(f\"Summary by model file: {summary_filename}\\n\")\n",
    "print(f\"📝 Process log created at: {log_path}\")"
   ]
  },
  {
   "cell_type": "markdown",
   "id": "21e1d597-82e7-4e4f-96a5-e6ec376f0395",
   "metadata": {},
   "source": [
    "#### Step 10 : Create and save bar chart of top 10 models by inventory"
   ]
  },
  {
   "cell_type": "code",
   "execution_count": 114,
   "id": "14e928db-50c8-4c7d-aff2-a4f2b05fe50e",
   "metadata": {
    "tags": []
   },
   "outputs": [
    {
     "name": "stdout",
     "output_type": "stream",
     "text": [
      "📈 Bar chart of top 10 models saved at: exports_20250603_225753\\top_10_models_chart_20250603_225753.png\n"
     ]
    },
    {
     "data": {
      "image/png": "[encoded data removed]",
      "text/plain": [
       "<Figure size 1000x600 with 1 Axes>"
      ]
     },
     "metadata": {},
     "output_type": "display_data"
    }
   ],
   "source": [
    "\n",
    "top_10_models = summary_by_model.sort_values(by='On-Hand (A)', ascending=False).head(10)\n",
    "plt.figure(figsize=(10,6))\n",
    "plt.barh(top_10_models['Model'], top_10_models['On-Hand (A)'], color='skyblue')\n",
    "plt.xlabel('On-Hand Inventory')\n",
    "plt.title('Top 10 LG Models by Inventory')\n",
    "plt.gca().invert_yaxis()\n",
    "chart_path = os.path.join(folder_name, f\"top_10_models_chart_{timestamp}.png\")\n",
    "plt.tight_layout()\n",
    "plt.savefig(chart_path)\n",
    "print(f\"📈 Bar chart of top 10 models saved at: {chart_path}\")"
   ]
  },
  {
   "cell_type": "code",
   "execution_count": 117,
   "id": "13e3fe45-9ee3-4a05-abba-f736b7fba7c6",
   "metadata": {
    "tags": []
   },
   "outputs": [
    {
     "name": "stderr",
     "output_type": "stream",
     "text": [
      "C:\\Users\\Admin\\AppData\\Local\\Temp\\ipykernel_25428\\1528049073.py:5: FutureWarning: \n",
      "\n",
      "The `ci` parameter is deprecated. Use `errorbar=None` for the same effect.\n",
      "\n",
      "  sns.barplot(data=df_customer, x='Customer', y='On-Hand (A)', estimator=sum, ci=None)\n"
     ]
    },
    {
     "data": {
      "image/png": "[encoded data removed]",
      "text/plain": [
       "<Figure size 800x500 with 1 Axes>"
      ]
     },
     "metadata": {},
     "output_type": "display_data"
    }
   ],
   "source": [
    "# 2️⃣ BAR CHART: Total Inventory by Customer (after dropping NaNs)\n",
    "df_customer = consolidated_inventory.dropna(subset=['Customer', 'On-Hand (A)'])\n",
    "if not df_customer.empty:\n",
    "    plt.figure(figsize=(8, 5))\n",
    "    sns.barplot(data=df_customer, x='Customer', y='On-Hand (A)', estimator=sum, ci=None)\n",
    "    plt.title(\"Total Inventory by Customer\")\n",
    "    plt.ylabel(\"Total Units\")\n",
    "    plt.tight_layout()\n",
    "    plt.savefig(os.path.join(folder_name, \"inventory_by_customer.png\"))\n",
    "    plt.show()\n",
    "    plt.close()"
   ]
  },
  {
   "cell_type": "code",
   "execution_count": 118,
   "id": "412c0095-4e38-49e8-a0ed-e3d6a2b92798",
   "metadata": {
    "tags": []
   },
   "outputs": [
    {
     "data": {
      "image/png": "[encoded data removed]",
      "text/plain": [
       "<Figure size 1000x600 with 1 Axes>"
      ]
     },
     "metadata": {},
     "output_type": "display_data"
    }
   ],
   "source": [
    "# 3️⃣ BAR CHART: Top 10 Stores by Inventory\n",
    "df_store = consolidated_inventory.dropna(subset=['Store Name', 'On-Hand (A)'])\n",
    "if not df_store.empty:\n",
    "    top_stores = df_store.groupby('Store Name')['On-Hand (A)'].sum().nlargest(10).reset_index()\n",
    "    plt.figure(figsize=(10, 6))\n",
    "    sns.barplot(data=top_stores, x='On-Hand (A)', y='Store Name')\n",
    "    plt.title(\"Top 10 Stores by Inventory\")\n",
    "    plt.tight_layout()\n",
    "    plt.savefig(os.path.join(folder_name, \"top_10_stores.png\"))\n",
    "    plt.show()\n",
    "    plt.close()"
   ]
  },
  {
   "cell_type": "code",
   "execution_count": null,
   "id": "858119b2-0781-4373-85ee-61b32f67e2be",
   "metadata": {},
   "outputs": [],
   "source": []
  }
 ],
 "metadata": {
  "kernelspec": {
   "display_name": "Python 3 (ipykernel)",
   "language": "python",
   "name": "python3"
  },
  "language_info": {
   "codemirror_mode": {
    "name": "ipython",
    "version": 3
   },
   "file_extension": ".py",
   "mimetype": "text/x-python",
   "name": "python",
   "nbconvert_exporter": "python",
   "pygments_lexer": "ipython3",
   "version": "3.11.5"
  }
 },
 "nbformat": 4,
 "nbformat_minor": 5
}
